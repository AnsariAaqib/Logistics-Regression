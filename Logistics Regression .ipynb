{
 "cells": [
  {
   "cell_type": "code",
   "execution_count": 1,
   "id": "afb2ab57",
   "metadata": {},
   "outputs": [],
   "source": [
    "import pandas as pd"
   ]
  },
  {
   "cell_type": "code",
   "execution_count": 2,
   "id": "2c4ac8d8",
   "metadata": {},
   "outputs": [],
   "source": [
    "import numpy as np"
   ]
  },
  {
   "cell_type": "code",
   "execution_count": 4,
   "id": "9c96e702",
   "metadata": {},
   "outputs": [],
   "source": [
    "import scipy.stats as sts\n",
    "\n",
    "# linear regression lib\n",
    "import statsmodels.api as smapi\n",
    "\n",
    "# ANOVA test\n",
    "from statsmodels.formula.api import ols\n",
    "\n",
    "# split the data into train/test in the reqd %\n",
    "# KFold -> k-fold cross validation\n",
    "from sklearn.model_selection import train_test_split,KFold\n",
    "\n",
    "# visualisation\n",
    "import matplotlib.pyplot as plt\n",
    "import seaborn as sns\n",
    "import pylab\n",
    "\n",
    "# VIF (Variance Inflation Factor)\n",
    "from statsmodels.stats.outliers_influence import variance_inflation_factor\n",
    "\n",
    "# feature selection\n",
    "from sklearn.feature_selection import f_regression\n",
    "\n",
    "# MSE\n",
    "from sklearn.metrics import mean_squared_error"
   ]
  },
  {
   "cell_type": "code",
   "execution_count": 5,
   "id": "583ac913",
   "metadata": {},
   "outputs": [],
   "source": [
    "from sklearn.metrics import classification_report,accuracy_score,confusion_matrix"
   ]
  },
  {
   "cell_type": "code",
   "execution_count": 6,
   "id": "bec188da",
   "metadata": {},
   "outputs": [],
   "source": [
    "from sklearn.feature_selection import f_classif\n"
   ]
  },
  {
   "cell_type": "code",
   "execution_count": 7,
   "id": "c24fd909",
   "metadata": {},
   "outputs": [],
   "source": [
    "path = \"C:/Users/Ansari Aaquib/Downloads/drive-download-20210519T143124Z-001/Logistics Regression/bankchurn1.csv\""
   ]
  },
  {
   "cell_type": "code",
   "execution_count": 8,
   "id": "b7e41ecc",
   "metadata": {},
   "outputs": [],
   "source": [
    "bank = pd.read_csv(path)"
   ]
  },
  {
   "cell_type": "code",
   "execution_count": 9,
   "id": "a2d462fa",
   "metadata": {},
   "outputs": [
    {
     "data": {
      "text/html": [
       "<div>\n",
       "<style scoped>\n",
       "    .dataframe tbody tr th:only-of-type {\n",
       "        vertical-align: middle;\n",
       "    }\n",
       "\n",
       "    .dataframe tbody tr th {\n",
       "        vertical-align: top;\n",
       "    }\n",
       "\n",
       "    .dataframe thead th {\n",
       "        text-align: right;\n",
       "    }\n",
       "</style>\n",
       "<table border=\"1\" class=\"dataframe\">\n",
       "  <thead>\n",
       "    <tr style=\"text-align: right;\">\n",
       "      <th></th>\n",
       "      <th>custid</th>\n",
       "      <th>surname</th>\n",
       "      <th>creditscore</th>\n",
       "      <th>country</th>\n",
       "      <th>gender</th>\n",
       "      <th>age</th>\n",
       "      <th>tenure</th>\n",
       "      <th>balance</th>\n",
       "      <th>active</th>\n",
       "      <th>salary</th>\n",
       "      <th>churn</th>\n",
       "    </tr>\n",
       "  </thead>\n",
       "  <tbody>\n",
       "    <tr>\n",
       "      <th>0</th>\n",
       "      <td>15634602</td>\n",
       "      <td>Hargrave</td>\n",
       "      <td>619</td>\n",
       "      <td>France</td>\n",
       "      <td>Female</td>\n",
       "      <td>42</td>\n",
       "      <td>2</td>\n",
       "      <td>0.00</td>\n",
       "      <td>1</td>\n",
       "      <td>101348.88</td>\n",
       "      <td>1</td>\n",
       "    </tr>\n",
       "    <tr>\n",
       "      <th>1</th>\n",
       "      <td>15647311</td>\n",
       "      <td>Hill</td>\n",
       "      <td>608</td>\n",
       "      <td>Spain</td>\n",
       "      <td>Female</td>\n",
       "      <td>41</td>\n",
       "      <td>1</td>\n",
       "      <td>83807.86</td>\n",
       "      <td>1</td>\n",
       "      <td>112542.58</td>\n",
       "      <td>0</td>\n",
       "    </tr>\n",
       "    <tr>\n",
       "      <th>2</th>\n",
       "      <td>15619304</td>\n",
       "      <td>Onio</td>\n",
       "      <td>502</td>\n",
       "      <td>France</td>\n",
       "      <td>Female</td>\n",
       "      <td>42</td>\n",
       "      <td>8</td>\n",
       "      <td>159660.80</td>\n",
       "      <td>0</td>\n",
       "      <td>113931.57</td>\n",
       "      <td>1</td>\n",
       "    </tr>\n",
       "    <tr>\n",
       "      <th>3</th>\n",
       "      <td>15701354</td>\n",
       "      <td>Boni</td>\n",
       "      <td>699</td>\n",
       "      <td>France</td>\n",
       "      <td>Female</td>\n",
       "      <td>39</td>\n",
       "      <td>1</td>\n",
       "      <td>0.00</td>\n",
       "      <td>0</td>\n",
       "      <td>93826.63</td>\n",
       "      <td>0</td>\n",
       "    </tr>\n",
       "    <tr>\n",
       "      <th>4</th>\n",
       "      <td>15737888</td>\n",
       "      <td>Mitchell</td>\n",
       "      <td>850</td>\n",
       "      <td>Spain</td>\n",
       "      <td>Female</td>\n",
       "      <td>43</td>\n",
       "      <td>2</td>\n",
       "      <td>125510.82</td>\n",
       "      <td>1</td>\n",
       "      <td>79084.10</td>\n",
       "      <td>0</td>\n",
       "    </tr>\n",
       "  </tbody>\n",
       "</table>\n",
       "</div>"
      ],
      "text/plain": [
       "     custid   surname  creditscore country  gender  age  tenure    balance  \\\n",
       "0  15634602  Hargrave          619  France  Female   42       2       0.00   \n",
       "1  15647311      Hill          608   Spain  Female   41       1   83807.86   \n",
       "2  15619304      Onio          502  France  Female   42       8  159660.80   \n",
       "3  15701354      Boni          699  France  Female   39       1       0.00   \n",
       "4  15737888  Mitchell          850   Spain  Female   43       2  125510.82   \n",
       "\n",
       "   active     salary  churn  \n",
       "0       1  101348.88      1  \n",
       "1       1  112542.58      0  \n",
       "2       0  113931.57      1  \n",
       "3       0   93826.63      0  \n",
       "4       1   79084.10      0  "
      ]
     },
     "execution_count": 9,
     "metadata": {},
     "output_type": "execute_result"
    }
   ],
   "source": [
    "bank.head()"
   ]
  },
  {
   "cell_type": "code",
   "execution_count": 10,
   "id": "7a44d1b7",
   "metadata": {},
   "outputs": [
    {
     "data": {
      "text/plain": [
       "(10000, 11)"
      ]
     },
     "execution_count": 10,
     "metadata": {},
     "output_type": "execute_result"
    }
   ],
   "source": [
    "bank.shape"
   ]
  },
  {
   "cell_type": "code",
   "execution_count": 11,
   "id": "2c477fb6",
   "metadata": {},
   "outputs": [
    {
     "data": {
      "text/html": [
       "<div>\n",
       "<style scoped>\n",
       "    .dataframe tbody tr th:only-of-type {\n",
       "        vertical-align: middle;\n",
       "    }\n",
       "\n",
       "    .dataframe tbody tr th {\n",
       "        vertical-align: top;\n",
       "    }\n",
       "\n",
       "    .dataframe thead th {\n",
       "        text-align: right;\n",
       "    }\n",
       "</style>\n",
       "<table border=\"1\" class=\"dataframe\">\n",
       "  <thead>\n",
       "    <tr style=\"text-align: right;\">\n",
       "      <th></th>\n",
       "      <th>custid</th>\n",
       "      <th>surname</th>\n",
       "      <th>creditscore</th>\n",
       "      <th>country</th>\n",
       "      <th>gender</th>\n",
       "      <th>age</th>\n",
       "      <th>tenure</th>\n",
       "      <th>balance</th>\n",
       "      <th>active</th>\n",
       "      <th>salary</th>\n",
       "      <th>churn</th>\n",
       "    </tr>\n",
       "  </thead>\n",
       "  <tbody>\n",
       "    <tr>\n",
       "      <th>9995</th>\n",
       "      <td>15606229</td>\n",
       "      <td>Obijiaku</td>\n",
       "      <td>771</td>\n",
       "      <td>France</td>\n",
       "      <td>Male</td>\n",
       "      <td>39</td>\n",
       "      <td>5</td>\n",
       "      <td>0.00</td>\n",
       "      <td>0</td>\n",
       "      <td>96270.64</td>\n",
       "      <td>0</td>\n",
       "    </tr>\n",
       "    <tr>\n",
       "      <th>9996</th>\n",
       "      <td>15569892</td>\n",
       "      <td>Johnstone</td>\n",
       "      <td>516</td>\n",
       "      <td>France</td>\n",
       "      <td>Male</td>\n",
       "      <td>35</td>\n",
       "      <td>10</td>\n",
       "      <td>57369.61</td>\n",
       "      <td>1</td>\n",
       "      <td>101699.77</td>\n",
       "      <td>0</td>\n",
       "    </tr>\n",
       "    <tr>\n",
       "      <th>9997</th>\n",
       "      <td>15584532</td>\n",
       "      <td>Liu</td>\n",
       "      <td>709</td>\n",
       "      <td>France</td>\n",
       "      <td>Female</td>\n",
       "      <td>36</td>\n",
       "      <td>7</td>\n",
       "      <td>0.00</td>\n",
       "      <td>1</td>\n",
       "      <td>42085.58</td>\n",
       "      <td>1</td>\n",
       "    </tr>\n",
       "    <tr>\n",
       "      <th>9998</th>\n",
       "      <td>15682355</td>\n",
       "      <td>Sabbatini</td>\n",
       "      <td>772</td>\n",
       "      <td>Germany</td>\n",
       "      <td>Male</td>\n",
       "      <td>42</td>\n",
       "      <td>3</td>\n",
       "      <td>75075.31</td>\n",
       "      <td>0</td>\n",
       "      <td>92888.52</td>\n",
       "      <td>1</td>\n",
       "    </tr>\n",
       "    <tr>\n",
       "      <th>9999</th>\n",
       "      <td>15628319</td>\n",
       "      <td>Walker</td>\n",
       "      <td>792</td>\n",
       "      <td>France</td>\n",
       "      <td>Female</td>\n",
       "      <td>28</td>\n",
       "      <td>4</td>\n",
       "      <td>130142.79</td>\n",
       "      <td>0</td>\n",
       "      <td>38190.78</td>\n",
       "      <td>0</td>\n",
       "    </tr>\n",
       "  </tbody>\n",
       "</table>\n",
       "</div>"
      ],
      "text/plain": [
       "        custid    surname  creditscore  country  gender  age  tenure  \\\n",
       "9995  15606229   Obijiaku          771   France    Male   39       5   \n",
       "9996  15569892  Johnstone          516   France    Male   35      10   \n",
       "9997  15584532        Liu          709   France  Female   36       7   \n",
       "9998  15682355  Sabbatini          772  Germany    Male   42       3   \n",
       "9999  15628319     Walker          792   France  Female   28       4   \n",
       "\n",
       "        balance  active     salary  churn  \n",
       "9995       0.00       0   96270.64      0  \n",
       "9996   57369.61       1  101699.77      0  \n",
       "9997       0.00       1   42085.58      1  \n",
       "9998   75075.31       0   92888.52      1  \n",
       "9999  130142.79       0   38190.78      0  "
      ]
     },
     "execution_count": 11,
     "metadata": {},
     "output_type": "execute_result"
    }
   ],
   "source": [
    "bank.tail()"
   ]
  },
  {
   "cell_type": "code",
   "execution_count": 12,
   "id": "f9228a1e",
   "metadata": {},
   "outputs": [
    {
     "data": {
      "text/plain": [
       "Index(['custid', 'surname', 'creditscore', 'country', 'gender', 'age',\n",
       "       'tenure', 'balance', 'active', 'salary', 'churn'],\n",
       "      dtype='object')"
      ]
     },
     "execution_count": 12,
     "metadata": {},
     "output_type": "execute_result"
    }
   ],
   "source": [
    "bank.columns"
   ]
  },
  {
   "cell_type": "code",
   "execution_count": 13,
   "id": "b7443cb0",
   "metadata": {},
   "outputs": [
    {
     "data": {
      "text/plain": [
       "custid         0\n",
       "surname        0\n",
       "creditscore    0\n",
       "country        0\n",
       "gender         0\n",
       "age            0\n",
       "tenure         0\n",
       "balance        0\n",
       "active         0\n",
       "salary         0\n",
       "churn          0\n",
       "dtype: int64"
      ]
     },
     "execution_count": 13,
     "metadata": {},
     "output_type": "execute_result"
    }
   ],
   "source": [
    "bank.isnull().sum()"
   ]
  },
  {
   "cell_type": "code",
   "execution_count": 14,
   "id": "8f6b51a9",
   "metadata": {},
   "outputs": [],
   "source": [
    "bank.drop(columns=['custid', 'surname',], inplace=True)"
   ]
  },
  {
   "cell_type": "code",
   "execution_count": 15,
   "id": "6efb3611",
   "metadata": {},
   "outputs": [
    {
     "data": {
      "text/plain": [
       "Index(['creditscore', 'country', 'gender', 'age', 'tenure', 'balance',\n",
       "       'active', 'salary', 'churn'],\n",
       "      dtype='object')"
      ]
     },
     "execution_count": 15,
     "metadata": {},
     "output_type": "execute_result"
    }
   ],
   "source": [
    "bank.columns"
   ]
  },
  {
   "cell_type": "code",
   "execution_count": 16,
   "id": "a7061708",
   "metadata": {},
   "outputs": [
    {
     "data": {
      "text/plain": [
       "creditscore      int64\n",
       "country         object\n",
       "gender          object\n",
       "age              int64\n",
       "tenure           int64\n",
       "balance        float64\n",
       "active           int64\n",
       "salary         float64\n",
       "churn            int64\n",
       "dtype: object"
      ]
     },
     "execution_count": 16,
     "metadata": {},
     "output_type": "execute_result"
    }
   ],
   "source": [
    "bank.dtypes"
   ]
  },
  {
   "cell_type": "code",
   "execution_count": 17,
   "id": "c57396c9",
   "metadata": {},
   "outputs": [
    {
     "data": {
      "text/plain": [
       "array([1, 0], dtype=int64)"
      ]
     },
     "execution_count": 17,
     "metadata": {},
     "output_type": "execute_result"
    }
   ],
   "source": [
    "bank.churn.unique()"
   ]
  },
  {
   "cell_type": "code",
   "execution_count": 18,
   "id": "d96e814e",
   "metadata": {},
   "outputs": [
    {
     "data": {
      "text/plain": [
       "<AxesSubplot:xlabel='churn', ylabel='count'>"
      ]
     },
     "execution_count": 18,
     "metadata": {},
     "output_type": "execute_result"
    },
    {
     "data": {
      "image/png": "[encoded data removed]",
      "text/plain": [
       "<Figure size 432x288 with 1 Axes>"
      ]
     },
     "metadata": {
      "needs_background": "light"
     },
     "output_type": "display_data"
    }
   ],
   "source": [
    "sns.countplot(x='churn',data=bank)"
   ]
  },
  {
   "cell_type": "code",
   "execution_count": 19,
   "id": "4c93750f",
   "metadata": {},
   "outputs": [],
   "source": [
    "from pylab import rcParams\n",
    "rcParams ['figure.figsize'] = 18,10"
   ]
  },
  {
   "cell_type": "code",
   "execution_count": 20,
   "id": "8a4116f5",
   "metadata": {},
   "outputs": [
    {
     "data": {
      "text/plain": [
       "0    7963\n",
       "1    2037\n",
       "Name: churn, dtype: int64"
      ]
     },
     "execution_count": 20,
     "metadata": {},
     "output_type": "execute_result"
    }
   ],
   "source": [
    "bank.churn.value_counts()"
   ]
  },
  {
   "cell_type": "code",
   "execution_count": 21,
   "id": "854e6af3",
   "metadata": {},
   "outputs": [
    {
     "name": "stdout",
     "output_type": "stream",
     "text": [
      "<class 'pandas.core.frame.DataFrame'>\n",
      "RangeIndex: 10000 entries, 0 to 9999\n",
      "Data columns (total 9 columns):\n",
      " #   Column       Non-Null Count  Dtype  \n",
      "---  ------       --------------  -----  \n",
      " 0   creditscore  10000 non-null  int64  \n",
      " 1   country      10000 non-null  object \n",
      " 2   gender       10000 non-null  object \n",
      " 3   age          10000 non-null  int64  \n",
      " 4   tenure       10000 non-null  int64  \n",
      " 5   balance      10000 non-null  float64\n",
      " 6   active       10000 non-null  int64  \n",
      " 7   salary       10000 non-null  float64\n",
      " 8   churn        10000 non-null  int64  \n",
      "dtypes: float64(2), int64(5), object(2)\n",
      "memory usage: 703.2+ KB\n"
     ]
    }
   ],
   "source": [
    "bank.info()"
   ]
  },
  {
   "cell_type": "code",
   "execution_count": 22,
   "id": "0c5f8127",
   "metadata": {},
   "outputs": [],
   "source": [
    "nc = bank.select_dtypes(exclude='object').columns.values"
   ]
  },
  {
   "cell_type": "code",
   "execution_count": 23,
   "id": "6be61337",
   "metadata": {},
   "outputs": [],
   "source": [
    "fc = bank.select_dtypes(include='object').columns.values"
   ]
  },
  {
   "cell_type": "code",
   "execution_count": 24,
   "id": "14d9c88e",
   "metadata": {},
   "outputs": [
    {
     "name": "stdout",
     "output_type": "stream",
     "text": [
      "columns =  country\n",
      "['France' 'Spain' 'Germany']\n",
      "-----\n",
      "columns =  gender\n",
      "['Female' 'Male']\n",
      "-----\n"
     ]
    }
   ],
   "source": [
    "for c in fc:\n",
    "    print('columns = ',c)\n",
    "    print(bank[c].unique())\n",
    "    print('-----')"
   ]
  },
  {
   "cell_type": "code",
   "execution_count": 25,
   "id": "4c4acecb",
   "metadata": {},
   "outputs": [],
   "source": [
    "bank_new = bank.copy()"
   ]
  },
  {
   "cell_type": "code",
   "execution_count": 26,
   "id": "c02ae192",
   "metadata": {},
   "outputs": [
    {
     "data": {
      "text/plain": [
       "country    0\n",
       "gender     0\n",
       "dtype: int64"
      ]
     },
     "execution_count": 26,
     "metadata": {},
     "output_type": "execute_result"
    }
   ],
   "source": [
    "bank[fc][bank[fc]==0].count()"
   ]
  },
  {
   "cell_type": "code",
   "execution_count": 27,
   "id": "12a1be9c",
   "metadata": {},
   "outputs": [],
   "source": [
    "for c in fc:\n",
    "    dummy = pd.get_dummies(bank_new[c],drop_first=True,prefix=c)\n",
    "    bank_new = bank_new.join(dummy)"
   ]
  },
  {
   "cell_type": "code",
   "execution_count": 28,
   "id": "f7bcb7aa",
   "metadata": {},
   "outputs": [
    {
     "data": {
      "text/plain": [
       "Index(['creditscore', 'country', 'gender', 'age', 'tenure', 'balance',\n",
       "       'active', 'salary', 'churn', 'country_Germany', 'country_Spain',\n",
       "       'gender_Male'],\n",
       "      dtype='object')"
      ]
     },
     "execution_count": 28,
     "metadata": {},
     "output_type": "execute_result"
    }
   ],
   "source": [
    "bank_new.columns"
   ]
  },
  {
   "cell_type": "code",
   "execution_count": 29,
   "id": "85eceb95",
   "metadata": {},
   "outputs": [],
   "source": [
    "bank_new.drop(columns=fc,inplace=True)\n"
   ]
  },
  {
   "cell_type": "code",
   "execution_count": 30,
   "id": "f84bf63a",
   "metadata": {},
   "outputs": [
    {
     "data": {
      "text/plain": [
       "Index(['creditscore', 'age', 'tenure', 'balance', 'active', 'salary', 'churn',\n",
       "       'country_Germany', 'country_Spain', 'gender_Male'],\n",
       "      dtype='object')"
      ]
     },
     "execution_count": 30,
     "metadata": {},
     "output_type": "execute_result"
    }
   ],
   "source": [
    "bank_new.columns\n"
   ]
  },
  {
   "cell_type": "code",
   "execution_count": 51,
   "id": "5527c5ea",
   "metadata": {},
   "outputs": [],
   "source": [
    "def splitdata(data,y,ratio=0.3):\n",
    "    trainx,testx,trainy,testy = train_test_split(data.drop(y,1),data[y],test_size=0.3)\n",
    "    \n",
    "    \n",
    "    return(trainx,trainy,testx,testy)\n",
    "    \n",
    "\n",
    "\n",
    "\n",
    "\n",
    "\n",
    "\n",
    "\n",
    "\n"
   ]
  },
  {
   "cell_type": "code",
   "execution_count": 52,
   "id": "3dc92f69",
   "metadata": {},
   "outputs": [
    {
     "name": "stdout",
     "output_type": "stream",
     "text": [
      "(7000, 9) (7000,) (3000, 9) (3000,)\n"
     ]
    }
   ],
   "source": [
    "print(trainx.shape,trainy.shape,testx.shape,testy.shape)"
   ]
  },
  {
   "cell_type": "code",
   "execution_count": null,
   "id": "b3187d92",
   "metadata": {},
   "outputs": [],
   "source": [
    "def buildmodel(trainx,trainy):\n",
    "    model =  smapi.Logit(trainy,trainx).fit()\n",
    "    return(model)\n",
    "\n",
    "\n",
    "trainx1,trainy1,testx1,testy1 = splitdata(bank_new,'churn')\n",
    "(trainx1.shape,trainy1.shape,testx1.shape,testy1.shape)\n",
    "\n",
    "\n",
    "def predtoclass(preds,cutoff):\n",
    "    p = preds.copy()\n",
    "    p[p < cutoff] = 0\n",
    "    p[p > cutoff] = 1\n",
    "    \n",
    "    return(p.astype(int))\n",
    "\n",
    "\n",
    "\n",
    "\n",
    "\n",
    "\n"
   ]
  },
  {
   "cell_type": "code",
   "execution_count": 54,
   "id": "d5b10a06",
   "metadata": {},
   "outputs": [
    {
     "name": "stdout",
     "output_type": "stream",
     "text": [
      "Optimization terminated successfully.\n",
      "         Current function value: 0.442741\n",
      "         Iterations 6\n"
     ]
    }
   ],
   "source": [
    "m1 = buildmodel(trainx1,trainy1)"
   ]
  },
  {
   "cell_type": "code",
   "execution_count": 55,
   "id": "bbda605c",
   "metadata": {},
   "outputs": [
    {
     "data": {
      "text/html": [
       "<table class=\"simpletable\">\n",
       "<caption>Logit Regression Results</caption>\n",
       "<tr>\n",
       "  <th>Dep. Variable:</th>         <td>churn</td>      <th>  No. Observations:  </th>   <td>  7000</td>  \n",
       "</tr>\n",
       "<tr>\n",
       "  <th>Model:</th>                 <td>Logit</td>      <th>  Df Residuals:      </th>   <td>  6991</td>  \n",
       "</tr>\n",
       "<tr>\n",
       "  <th>Method:</th>                 <td>MLE</td>       <th>  Df Model:          </th>   <td>     8</td>  \n",
       "</tr>\n",
       "<tr>\n",
       "  <th>Date:</th>            <td>Sat, 07 Aug 2021</td> <th>  Pseudo R-squ.:     </th>   <td>0.1248</td>  \n",
       "</tr>\n",
       "<tr>\n",
       "  <th>Time:</th>                <td>17:22:05</td>     <th>  Log-Likelihood:    </th>  <td> -3099.2</td> \n",
       "</tr>\n",
       "<tr>\n",
       "  <th>converged:</th>             <td>True</td>       <th>  LL-Null:           </th>  <td> -3541.3</td> \n",
       "</tr>\n",
       "<tr>\n",
       "  <th>Covariance Type:</th>     <td>nonrobust</td>    <th>  LLR p-value:       </th> <td>1.449e-185</td>\n",
       "</tr>\n",
       "</table>\n",
       "<table class=\"simpletable\">\n",
       "<tr>\n",
       "         <td></td>            <th>coef</th>     <th>std err</th>      <th>z</th>      <th>P>|z|</th>  <th>[0.025</th>    <th>0.975]</th>  \n",
       "</tr>\n",
       "<tr>\n",
       "  <th>creditscore</th>     <td>   -0.0042</td> <td>    0.000</td> <td>  -20.733</td> <td> 0.000</td> <td>   -0.005</td> <td>   -0.004</td>\n",
       "</tr>\n",
       "<tr>\n",
       "  <th>age</th>             <td>    0.0546</td> <td>    0.003</td> <td>   19.911</td> <td> 0.000</td> <td>    0.049</td> <td>    0.060</td>\n",
       "</tr>\n",
       "<tr>\n",
       "  <th>tenure</th>          <td>   -0.0474</td> <td>    0.011</td> <td>   -4.419</td> <td> 0.000</td> <td>   -0.068</td> <td>   -0.026</td>\n",
       "</tr>\n",
       "<tr>\n",
       "  <th>balance</th>         <td> 1.401e-06</td> <td> 5.73e-07</td> <td>    2.444</td> <td> 0.015</td> <td> 2.77e-07</td> <td> 2.52e-06</td>\n",
       "</tr>\n",
       "<tr>\n",
       "  <th>active</th>          <td>   -1.0842</td> <td>    0.067</td> <td>  -16.167</td> <td> 0.000</td> <td>   -1.216</td> <td>   -0.953</td>\n",
       "</tr>\n",
       "<tr>\n",
       "  <th>salary</th>          <td>-1.474e-06</td> <td>  5.4e-07</td> <td>   -2.729</td> <td> 0.006</td> <td>-2.53e-06</td> <td>-4.16e-07</td>\n",
       "</tr>\n",
       "<tr>\n",
       "  <th>country_Germany</th> <td>    0.7603</td> <td>    0.079</td> <td>    9.570</td> <td> 0.000</td> <td>    0.605</td> <td>    0.916</td>\n",
       "</tr>\n",
       "<tr>\n",
       "  <th>country_Spain</th>   <td>   -0.1204</td> <td>    0.083</td> <td>   -1.446</td> <td> 0.148</td> <td>   -0.284</td> <td>    0.043</td>\n",
       "</tr>\n",
       "<tr>\n",
       "  <th>gender_Male</th>     <td>   -0.6179</td> <td>    0.063</td> <td>   -9.768</td> <td> 0.000</td> <td>   -0.742</td> <td>   -0.494</td>\n",
       "</tr>\n",
       "</table>"
      ],
      "text/plain": [
       "<class 'statsmodels.iolib.summary.Summary'>\n",
       "\"\"\"\n",
       "                           Logit Regression Results                           \n",
       "==============================================================================\n",
       "Dep. Variable:                  churn   No. Observations:                 7000\n",
       "Model:                          Logit   Df Residuals:                     6991\n",
       "Method:                           MLE   Df Model:                            8\n",
       "Date:                Sat, 07 Aug 2021   Pseudo R-squ.:                  0.1248\n",
       "Time:                        17:22:05   Log-Likelihood:                -3099.2\n",
       "converged:                       True   LL-Null:                       -3541.3\n",
       "Covariance Type:            nonrobust   LLR p-value:                1.449e-185\n",
       "===================================================================================\n",
       "                      coef    std err          z      P>|z|      [0.025      0.975]\n",
       "-----------------------------------------------------------------------------------\n",
       "creditscore        -0.0042      0.000    -20.733      0.000      -0.005      -0.004\n",
       "age                 0.0546      0.003     19.911      0.000       0.049       0.060\n",
       "tenure             -0.0474      0.011     -4.419      0.000      -0.068      -0.026\n",
       "balance          1.401e-06   5.73e-07      2.444      0.015    2.77e-07    2.52e-06\n",
       "active             -1.0842      0.067    -16.167      0.000      -1.216      -0.953\n",
       "salary          -1.474e-06    5.4e-07     -2.729      0.006   -2.53e-06   -4.16e-07\n",
       "country_Germany     0.7603      0.079      9.570      0.000       0.605       0.916\n",
       "country_Spain      -0.1204      0.083     -1.446      0.148      -0.284       0.043\n",
       "gender_Male        -0.6179      0.063     -9.768      0.000      -0.742      -0.494\n",
       "===================================================================================\n",
       "\"\"\""
      ]
     },
     "execution_count": 55,
     "metadata": {},
     "output_type": "execute_result"
    }
   ],
   "source": [
    "m1.summary()"
   ]
  },
  {
   "cell_type": "code",
   "execution_count": 56,
   "id": "d69e6837",
   "metadata": {},
   "outputs": [],
   "source": [
    "p1 = m1.predict(testx1)"
   ]
  },
  {
   "cell_type": "code",
   "execution_count": 57,
   "id": "fdc6a617",
   "metadata": {},
   "outputs": [
    {
     "name": "stdout",
     "output_type": "stream",
     "text": [
      "2190    0.694112\n",
      "2304    0.061406\n",
      "7560    0.202804\n",
      "7163    0.074367\n",
      "4219    0.215248\n",
      "9814    0.180010\n",
      "3409    0.591119\n",
      "5702    0.174770\n",
      "3009    0.067998\n",
      "1177    0.098380\n",
      "dtype: float64\n"
     ]
    }
   ],
   "source": [
    "print(p1[0:10])"
   ]
  },
  {
   "cell_type": "markdown",
   "id": "4fd0f167",
   "metadata": {},
   "source": [
    "p < 0.05 --> 0\n",
    "p > 0.05 --> 1"
   ]
  },
  {
   "cell_type": "code",
   "execution_count": 58,
   "id": "c0366593",
   "metadata": {},
   "outputs": [],
   "source": [
    "p1_copy = p1.copy()"
   ]
  },
  {
   "cell_type": "code",
   "execution_count": 59,
   "id": "2b17167a",
   "metadata": {},
   "outputs": [],
   "source": [
    "p1_copy[p1_copy < 0.5]  = 0\n",
    "p1_copy[p1_copy > 0.5]  = 1"
   ]
  },
  {
   "cell_type": "code",
   "execution_count": 60,
   "id": "9b2fddd7",
   "metadata": {},
   "outputs": [
    {
     "name": "stdout",
     "output_type": "stream",
     "text": [
      "2190    1.0\n",
      "2304    0.0\n",
      "7560    0.0\n",
      "7163    0.0\n",
      "4219    0.0\n",
      "       ... \n",
      "9245    0.0\n",
      "8846    1.0\n",
      "6034    0.0\n",
      "3154    0.0\n",
      "3494    0.0\n",
      "Length: 3000, dtype: float64\n"
     ]
    }
   ],
   "source": [
    "print(p1_copy)"
   ]
  },
  {
   "cell_type": "code",
   "execution_count": 61,
   "id": "dffa057e",
   "metadata": {},
   "outputs": [],
   "source": [
    "def predtoclass(preds,cutoff):\n",
    "    p = preds.copy()\n",
    "    p[p < cutoff] = 0\n",
    "    p[p > cutoff] = 1\n",
    "    \n",
    "    return(p.astype(int))"
   ]
  },
  {
   "cell_type": "code",
   "execution_count": 62,
   "id": "741f3173",
   "metadata": {},
   "outputs": [],
   "source": [
    "pred1 = predtoclass(p1,0.5)"
   ]
  },
  {
   "cell_type": "code",
   "execution_count": 63,
   "id": "b71dba7d",
   "metadata": {},
   "outputs": [
    {
     "data": {
      "text/plain": [
       "2190    1\n",
       "2304    0\n",
       "7560    0\n",
       "7163    0\n",
       "4219    0\n",
       "9814    0\n",
       "3409    1\n",
       "5702    0\n",
       "3009    0\n",
       "1177    0\n",
       "dtype: int32"
      ]
     },
     "execution_count": 63,
     "metadata": {},
     "output_type": "execute_result"
    }
   ],
   "source": [
    "pred1[0:10]"
   ]
  },
  {
   "cell_type": "markdown",
   "id": "4f265cf8",
   "metadata": {},
   "source": [
    "# evaluting the model"
   ]
  },
  {
   "cell_type": "markdown",
   "id": "1e260401",
   "metadata": {},
   "source": [
    "# Confusion matrix\n"
   ]
  },
  {
   "cell_type": "code",
   "execution_count": 64,
   "id": "bb525d16",
   "metadata": {},
   "outputs": [
    {
     "data": {
      "text/plain": [
       "array([[2287,  144],\n",
       "       [ 522,   47]], dtype=int64)"
      ]
     },
     "execution_count": 64,
     "metadata": {},
     "output_type": "execute_result"
    }
   ],
   "source": [
    "confusion_matrix(testy,pred1)"
   ]
  },
  {
   "cell_type": "code",
   "execution_count": 65,
   "id": "fa4a1dc3",
   "metadata": {},
   "outputs": [
    {
     "data": {
      "text/plain": [
       "'              precision    recall  f1-score   support\\n\\n           0       0.83      0.97      0.89      2391\\n           1       0.63      0.20      0.30       609\\n\\n    accuracy                           0.81      3000\\n   macro avg       0.73      0.58      0.60      3000\\nweighted avg       0.79      0.81      0.77      3000\\n'"
      ]
     },
     "execution_count": 65,
     "metadata": {},
     "output_type": "execute_result"
    }
   ],
   "source": [
    "classification_report(testy1,pred1)"
   ]
  },
  {
   "cell_type": "code",
   "execution_count": 79,
   "id": "cc23237b",
   "metadata": {},
   "outputs": [],
   "source": [
    "# confusion matrix, classification report, ROC curve\n",
    "def cm(actual,predicted):\n",
    "    # cross tab method\n",
    "    df1 = pd.DataFrame({'actual':actual,'predicted':predicted})\n",
    "    print(pd.crosstab(df1.actual,df1.predicted,margins=True))\n",
    "    \n",
    "    # classification report\n",
    "    print(classification_report(actual,predicted))\n",
    "    \n",
    "    fpr,tpr,_ = metrics.roc_curve(actual,predicted)\n",
    "    roc_auc = metrics.auc(fpr,tpr)\n",
    "    \n",
    "    plt.title('ROC')\n",
    "    plt.plot(fpr,tpr,'b',label='AUC={}%'.format(round(roc_auc*100,3))) \n",
    "    plt.plot([0,1],[0,1],'r--')\n",
    "    plt.xlim([0,1])\n",
    "    plt.ylim([0,1])\n",
    "    plt.xlabel('1- False Positive Rate')\n",
    "    plt.ylabel('True Positive Rate')\n",
    "    plt.legend\n",
    "    \n",
    "    \n",
    "    "
   ]
  },
  {
   "cell_type": "code",
   "execution_count": 70,
   "id": "ab4ce208",
   "metadata": {},
   "outputs": [
    {
     "name": "stdout",
     "output_type": "stream",
     "text": [
      "predicted     0    1   All\n",
      "actual                    \n",
      "0          2320   71  2391\n",
      "1           489  120   609\n",
      "All        2809  191  3000\n",
      "              precision    recall  f1-score   support\n",
      "\n",
      "           0       0.83      0.97      0.89      2391\n",
      "           1       0.63      0.20      0.30       609\n",
      "\n",
      "    accuracy                           0.81      3000\n",
      "   macro avg       0.73      0.58      0.60      3000\n",
      "weighted avg       0.79      0.81      0.77      3000\n",
      "\n"
     ]
    }
   ],
   "source": [
    "cm(testy1,pred1)"
   ]
  },
  {
   "cell_type": "code",
   "execution_count": 71,
   "id": "4deae3d1",
   "metadata": {},
   "outputs": [],
   "source": [
    "from sklearn import metrics"
   ]
  },
  {
   "cell_type": "code",
   "execution_count": 81,
   "id": "91b064d4",
   "metadata": {},
   "outputs": [],
   "source": [
    "def cm(actual,predicted):\n",
    "    # cross tab method\n",
    "    df1 = pd.DataFrame({'actual':actual,'predicted':predicted})\n",
    "    print(pd.crosstab(df1.actual,df1.predicted,margins=True))\n",
    "    \n",
    "    # classification report\n",
    "    print(classification_report(actual,predicted))\n",
    "    \n",
    "    fpr,tpr,_ = metrics.roc_curve(actual,predicted)\n",
    "    roc_auc = metrics.auc(fpr,tpr)\n",
    "    \n",
    "    plt.title('ROC')\n",
    "    plt.plot(fpr,tpr,'b',label='AUC={}%'.format(round(roc_auc*100,3))) \n",
    "    plt.plot([0,1],[0,1],'r--')\n",
    "    plt.xlim([0,1])\n",
    "    plt.ylim([0,1])\n",
    "    plt.xlabel('1- False Positive Rate')\n",
    "    plt.ylabel('True Positive Rate')\n",
    "    plt.legend\n",
    "    \n",
    "    "
   ]
  },
  {
   "cell_type": "code",
   "execution_count": 83,
   "id": "85c716f1",
   "metadata": {},
   "outputs": [
    {
     "name": "stdout",
     "output_type": "stream",
     "text": [
      "predicted     0    1   All\n",
      "actual                    \n",
      "0          2203  188  2391\n",
      "1           406  203   609\n",
      "All        2609  391  3000\n",
      "              precision    recall  f1-score   support\n",
      "\n",
      "           0       0.84      0.92      0.88      2391\n",
      "           1       0.52      0.33      0.41       609\n",
      "\n",
      "    accuracy                           0.80      3000\n",
      "   macro avg       0.68      0.63      0.64      3000\n",
      "weighted avg       0.78      0.80      0.78      3000\n",
      "\n"
     ]
    },
    {
     "data": {
      "image/png": "[encoded data removed]",
      "text/plain": [
       "<Figure size 1296x720 with 1 Axes>"
      ]
     },
     "metadata": {
      "needs_background": "light"
     },
     "output_type": "display_data"
    }
   ],
   "source": [
    "cutoff = 0.4\n",
    "p1 =  m1.predict(testx1)\n",
    "pred1 = predtoclass(p1,cutoff)\n",
    "cm(testy1,pred1)"
   ]
  },
  {
   "cell_type": "markdown",
   "id": "0bc04062",
   "metadata": {},
   "source": [
    "cutoff = 0.25\n",
    "p1 =  m1.predict(testx1)\n",
    "pred1 = predtoclass(p1,cutoff)\n",
    "cm(testy1,pred1)"
   ]
  },
  {
   "cell_type": "markdown",
   "id": "9a39d502",
   "metadata": {},
   "source": [
    "# Over Sampling "
   ]
  },
  {
   "cell_type": "code",
   "execution_count": 88,
   "id": "fa33e61a",
   "metadata": {},
   "outputs": [],
   "source": [
    "from imblearn.over_sampling import SMOTE"
   ]
  },
  {
   "cell_type": "code",
   "execution_count": 89,
   "id": "19f1d06a",
   "metadata": {},
   "outputs": [],
   "source": [
    "sm = SMOTE()\n",
    "chx,chy = sm.fit_resample(bank_new.drop('churn',1),bank_new.churn)"
   ]
  },
  {
   "cell_type": "markdown",
   "id": "45afd6cd",
   "metadata": {},
   "source": [
    "# model 2\n"
   ]
  },
  {
   "cell_type": "code",
   "execution_count": 90,
   "id": "a81b9c2e",
   "metadata": {},
   "outputs": [
    {
     "data": {
      "text/plain": [
       "15926"
      ]
     },
     "execution_count": 90,
     "metadata": {},
     "output_type": "execute_result"
    }
   ],
   "source": [
    "bank_new2 = chx.join(chy)\n",
    "len(bank_new2)"
   ]
  },
  {
   "cell_type": "markdown",
   "id": "0da66be6",
   "metadata": {},
   "source": [
    "# check  the count of classes (y)"
   ]
  },
  {
   "cell_type": "code",
   "execution_count": 91,
   "id": "9b188a74",
   "metadata": {},
   "outputs": [
    {
     "data": {
      "text/plain": [
       "0    7963\n",
       "1    7963\n",
       "Name: churn, dtype: int64"
      ]
     },
     "execution_count": 91,
     "metadata": {},
     "output_type": "execute_result"
    }
   ],
   "source": [
    "bank_new2.churn.value_counts()"
   ]
  },
  {
   "cell_type": "markdown",
   "id": "edbe5217",
   "metadata": {},
   "source": [
    "# Build and predict model 2"
   ]
  },
  {
   "cell_type": "code",
   "execution_count": 92,
   "id": "cb24e4ec",
   "metadata": {},
   "outputs": [
    {
     "name": "stdout",
     "output_type": "stream",
     "text": [
      "Optimization terminated successfully.\n",
      "         Current function value: 0.485874\n",
      "         Iterations 6\n"
     ]
    }
   ],
   "source": [
    "trainx2,trainy2,testx2,testy2 = splitdata(bank_new2,'churn')\n",
    "(trainx2.shape,trainy2.shape,testx2.shape,testy2.shape)\n",
    "\n",
    "m2 = buildmodel(trainx2,trainy2)\n"
   ]
  },
  {
   "cell_type": "code",
   "execution_count": 93,
   "id": "4334ca4c",
   "metadata": {},
   "outputs": [
    {
     "data": {
      "text/html": [
       "<table class=\"simpletable\">\n",
       "<caption>Logit Regression Results</caption>\n",
       "<tr>\n",
       "  <th>Dep. Variable:</th>         <td>churn</td>      <th>  No. Observations:  </th>  <td> 11148</td> \n",
       "</tr>\n",
       "<tr>\n",
       "  <th>Model:</th>                 <td>Logit</td>      <th>  Df Residuals:      </th>  <td> 11139</td> \n",
       "</tr>\n",
       "<tr>\n",
       "  <th>Method:</th>                 <td>MLE</td>       <th>  Df Model:          </th>  <td>     8</td> \n",
       "</tr>\n",
       "<tr>\n",
       "  <th>Date:</th>            <td>Sat, 07 Aug 2021</td> <th>  Pseudo R-squ.:     </th>  <td>0.2990</td> \n",
       "</tr>\n",
       "<tr>\n",
       "  <th>Time:</th>                <td>19:17:19</td>     <th>  Log-Likelihood:    </th> <td> -5416.5</td>\n",
       "</tr>\n",
       "<tr>\n",
       "  <th>converged:</th>             <td>True</td>       <th>  LL-Null:           </th> <td> -7727.0</td>\n",
       "</tr>\n",
       "<tr>\n",
       "  <th>Covariance Type:</th>     <td>nonrobust</td>    <th>  LLR p-value:       </th>  <td> 0.000</td> \n",
       "</tr>\n",
       "</table>\n",
       "<table class=\"simpletable\">\n",
       "<tr>\n",
       "         <td></td>            <th>coef</th>     <th>std err</th>      <th>z</th>      <th>P>|z|</th>  <th>[0.025</th>    <th>0.975]</th>  \n",
       "</tr>\n",
       "<tr>\n",
       "  <th>creditscore</th>     <td>   -0.0026</td> <td>    0.000</td> <td>  -16.315</td> <td> 0.000</td> <td>   -0.003</td> <td>   -0.002</td>\n",
       "</tr>\n",
       "<tr>\n",
       "  <th>age</th>             <td>    0.0776</td> <td>    0.002</td> <td>   33.655</td> <td> 0.000</td> <td>    0.073</td> <td>    0.082</td>\n",
       "</tr>\n",
       "<tr>\n",
       "  <th>tenure</th>          <td>   -0.0697</td> <td>    0.009</td> <td>   -8.132</td> <td> 0.000</td> <td>   -0.086</td> <td>   -0.053</td>\n",
       "</tr>\n",
       "<tr>\n",
       "  <th>balance</th>         <td> 4.227e-06</td> <td> 4.11e-07</td> <td>   10.274</td> <td> 0.000</td> <td> 3.42e-06</td> <td> 5.03e-06</td>\n",
       "</tr>\n",
       "<tr>\n",
       "  <th>active</th>          <td>   -1.8998</td> <td>    0.052</td> <td>  -36.655</td> <td> 0.000</td> <td>   -2.001</td> <td>   -1.798</td>\n",
       "</tr>\n",
       "<tr>\n",
       "  <th>salary</th>          <td>-8.496e-07</td> <td> 4.04e-07</td> <td>   -2.104</td> <td> 0.035</td> <td>-1.64e-06</td> <td>-5.82e-08</td>\n",
       "</tr>\n",
       "<tr>\n",
       "  <th>country_Germany</th> <td>    0.0608</td> <td>    0.060</td> <td>    1.018</td> <td> 0.309</td> <td>   -0.056</td> <td>    0.178</td>\n",
       "</tr>\n",
       "<tr>\n",
       "  <th>country_Spain</th>   <td>   -1.1114</td> <td>    0.068</td> <td>  -16.303</td> <td> 0.000</td> <td>   -1.245</td> <td>   -0.978</td>\n",
       "</tr>\n",
       "<tr>\n",
       "  <th>gender_Male</th>     <td>   -1.3567</td> <td>    0.048</td> <td>  -28.021</td> <td> 0.000</td> <td>   -1.452</td> <td>   -1.262</td>\n",
       "</tr>\n",
       "</table>"
      ],
      "text/plain": [
       "<class 'statsmodels.iolib.summary.Summary'>\n",
       "\"\"\"\n",
       "                           Logit Regression Results                           \n",
       "==============================================================================\n",
       "Dep. Variable:                  churn   No. Observations:                11148\n",
       "Model:                          Logit   Df Residuals:                    11139\n",
       "Method:                           MLE   Df Model:                            8\n",
       "Date:                Sat, 07 Aug 2021   Pseudo R-squ.:                  0.2990\n",
       "Time:                        19:17:19   Log-Likelihood:                -5416.5\n",
       "converged:                       True   LL-Null:                       -7727.0\n",
       "Covariance Type:            nonrobust   LLR p-value:                     0.000\n",
       "===================================================================================\n",
       "                      coef    std err          z      P>|z|      [0.025      0.975]\n",
       "-----------------------------------------------------------------------------------\n",
       "creditscore        -0.0026      0.000    -16.315      0.000      -0.003      -0.002\n",
       "age                 0.0776      0.002     33.655      0.000       0.073       0.082\n",
       "tenure             -0.0697      0.009     -8.132      0.000      -0.086      -0.053\n",
       "balance          4.227e-06   4.11e-07     10.274      0.000    3.42e-06    5.03e-06\n",
       "active             -1.8998      0.052    -36.655      0.000      -2.001      -1.798\n",
       "salary          -8.496e-07   4.04e-07     -2.104      0.035   -1.64e-06   -5.82e-08\n",
       "country_Germany     0.0608      0.060      1.018      0.309      -0.056       0.178\n",
       "country_Spain      -1.1114      0.068    -16.303      0.000      -1.245      -0.978\n",
       "gender_Male        -1.3567      0.048    -28.021      0.000      -1.452      -1.262\n",
       "===================================================================================\n",
       "\"\"\""
      ]
     },
     "execution_count": 93,
     "metadata": {},
     "output_type": "execute_result"
    }
   ],
   "source": [
    "m2.summary()"
   ]
  },
  {
   "cell_type": "markdown",
   "id": "b601b7a5",
   "metadata": {},
   "source": [
    "# Predict on the test data"
   ]
  },
  {
   "cell_type": "code",
   "execution_count": 94,
   "id": "763e1639",
   "metadata": {},
   "outputs": [
    {
     "name": "stdout",
     "output_type": "stream",
     "text": [
      "predicted     0     1   All\n",
      "actual                     \n",
      "0          1792   632  2424\n",
      "1           529  1825  2354\n",
      "All        2321  2457  4778\n",
      "              precision    recall  f1-score   support\n",
      "\n",
      "           0       0.77      0.74      0.76      2424\n",
      "           1       0.74      0.78      0.76      2354\n",
      "\n",
      "    accuracy                           0.76      4778\n",
      "   macro avg       0.76      0.76      0.76      4778\n",
      "weighted avg       0.76      0.76      0.76      4778\n",
      "\n"
     ]
    },
    {
     "data": {
      "image/png": "[encoded data removed]",
      "text/plain": [
       "<Figure size 1296x720 with 1 Axes>"
      ]
     },
     "metadata": {
      "needs_background": "light"
     },
     "output_type": "display_data"
    }
   ],
   "source": [
    "cutoff = 0.5\n",
    "p2 =  m2.predict(testx2)\n",
    "pred2 = predtoclass(p2,cutoff)\n",
    "cm(testy2,pred2)"
   ]
  },
  {
   "cell_type": "markdown",
   "id": "5556b854",
   "metadata": {},
   "source": [
    "# Evaluating the model"
   ]
  },
  {
   "cell_type": "code",
   "execution_count": 95,
   "id": "4993573a",
   "metadata": {},
   "outputs": [
    {
     "name": "stdout",
     "output_type": "stream",
     "text": [
      "predicted     0     1   All\n",
      "actual                     \n",
      "0          1792   632  2424\n",
      "1           529  1825  2354\n",
      "All        2321  2457  4778\n",
      "              precision    recall  f1-score   support\n",
      "\n",
      "           0       0.77      0.74      0.76      2424\n",
      "           1       0.74      0.78      0.76      2354\n",
      "\n",
      "    accuracy                           0.76      4778\n",
      "   macro avg       0.76      0.76      0.76      4778\n",
      "weighted avg       0.76      0.76      0.76      4778\n",
      "\n"
     ]
    },
    {
     "data": {
      "image/png": "[encoded data removed]",
      "text/plain": [
       "<Figure size 1296x720 with 1 Axes>"
      ]
     },
     "metadata": {
      "needs_background": "light"
     },
     "output_type": "display_data"
    }
   ],
   "source": [
    "cm(testy2,pred2)"
   ]
  },
  {
   "cell_type": "markdown",
   "id": "22f01097",
   "metadata": {},
   "source": [
    "# Undersampling"
   ]
  },
  {
   "cell_type": "code",
   "execution_count": 96,
   "id": "b2d122a8",
   "metadata": {},
   "outputs": [],
   "source": [
    "from imblearn.under_sampling import NearMiss"
   ]
  },
  {
   "cell_type": "code",
   "execution_count": 97,
   "id": "137314ff",
   "metadata": {},
   "outputs": [],
   "source": [
    "nm = NearMiss()\n"
   ]
  },
  {
   "cell_type": "code",
   "execution_count": 98,
   "id": "4e506d73",
   "metadata": {},
   "outputs": [],
   "source": [
    "chx,chy = nm.fit_resample(bank_new.drop('churn',1),bank_new.churn)"
   ]
  },
  {
   "cell_type": "markdown",
   "id": "bbdae5e8",
   "metadata": {},
   "source": [
    "# Model 3"
   ]
  },
  {
   "cell_type": "code",
   "execution_count": 99,
   "id": "34fcc107",
   "metadata": {},
   "outputs": [
    {
     "data": {
      "text/plain": [
       "4074"
      ]
     },
     "execution_count": 99,
     "metadata": {},
     "output_type": "execute_result"
    }
   ],
   "source": [
    "bank_new3 = chx.join(chy)\n",
    "len(bank_new3)"
   ]
  },
  {
   "cell_type": "markdown",
   "id": "dc71ce8b",
   "metadata": {},
   "source": [
    "# check the count of classes (y)"
   ]
  },
  {
   "cell_type": "code",
   "execution_count": 100,
   "id": "afb3d21c",
   "metadata": {},
   "outputs": [
    {
     "data": {
      "text/plain": [
       "0    2037\n",
       "1    2037\n",
       "Name: churn, dtype: int64"
      ]
     },
     "execution_count": 100,
     "metadata": {},
     "output_type": "execute_result"
    }
   ],
   "source": [
    "bank_new3.churn.value_counts()"
   ]
  },
  {
   "cell_type": "markdown",
   "id": "6c32dd33",
   "metadata": {},
   "source": [
    "# Build and predict model 3"
   ]
  },
  {
   "cell_type": "code",
   "execution_count": 101,
   "id": "45c20685",
   "metadata": {},
   "outputs": [
    {
     "name": "stdout",
     "output_type": "stream",
     "text": [
      "Optimization terminated successfully.\n",
      "         Current function value: 0.275356\n",
      "         Iterations 12\n"
     ]
    }
   ],
   "source": [
    "trainx3,trainy3,testx3,testy3 = splitdata(bank_new3,'churn')\n",
    "(trainx3.shape,trainy3.shape,testx3.shape,testy3.shape)\n",
    "\n",
    "m3 = buildmodel(trainx3,trainy3)\n"
   ]
  },
  {
   "cell_type": "markdown",
   "id": "6a152f57",
   "metadata": {},
   "source": [
    "# Summarise the model"
   ]
  },
  {
   "cell_type": "code",
   "execution_count": 102,
   "id": "0daed396",
   "metadata": {},
   "outputs": [
    {
     "data": {
      "text/html": [
       "<table class=\"simpletable\">\n",
       "<caption>Logit Regression Results</caption>\n",
       "<tr>\n",
       "  <th>Dep. Variable:</th>         <td>churn</td>      <th>  No. Observations:  </th>  <td>  2851</td> \n",
       "</tr>\n",
       "<tr>\n",
       "  <th>Model:</th>                 <td>Logit</td>      <th>  Df Residuals:      </th>  <td>  2842</td> \n",
       "</tr>\n",
       "<tr>\n",
       "  <th>Method:</th>                 <td>MLE</td>       <th>  Df Model:          </th>  <td>     8</td> \n",
       "</tr>\n",
       "<tr>\n",
       "  <th>Date:</th>            <td>Sat, 07 Aug 2021</td> <th>  Pseudo R-squ.:     </th>  <td>0.6027</td> \n",
       "</tr>\n",
       "<tr>\n",
       "  <th>Time:</th>                <td>19:29:20</td>     <th>  Log-Likelihood:    </th> <td> -785.04</td>\n",
       "</tr>\n",
       "<tr>\n",
       "  <th>converged:</th>             <td>True</td>       <th>  LL-Null:           </th> <td> -1976.0</td>\n",
       "</tr>\n",
       "<tr>\n",
       "  <th>Covariance Type:</th>     <td>nonrobust</td>    <th>  LLR p-value:       </th>  <td> 0.000</td> \n",
       "</tr>\n",
       "</table>\n",
       "<table class=\"simpletable\">\n",
       "<tr>\n",
       "         <td></td>            <th>coef</th>     <th>std err</th>      <th>z</th>      <th>P>|z|</th>  <th>[0.025</th>    <th>0.975]</th>  \n",
       "</tr>\n",
       "<tr>\n",
       "  <th>creditscore</th>     <td>   -0.0044</td> <td>    0.000</td> <td>  -10.733</td> <td> 0.000</td> <td>   -0.005</td> <td>   -0.004</td>\n",
       "</tr>\n",
       "<tr>\n",
       "  <th>age</th>             <td>    0.0614</td> <td>    0.006</td> <td>   11.068</td> <td> 0.000</td> <td>    0.051</td> <td>    0.072</td>\n",
       "</tr>\n",
       "<tr>\n",
       "  <th>tenure</th>          <td>   -0.0534</td> <td>    0.022</td> <td>   -2.460</td> <td> 0.014</td> <td>   -0.096</td> <td>   -0.011</td>\n",
       "</tr>\n",
       "<tr>\n",
       "  <th>balance</th>         <td>    0.0001</td> <td> 2.26e-05</td> <td>    5.155</td> <td> 0.000</td> <td> 7.22e-05</td> <td>    0.000</td>\n",
       "</tr>\n",
       "<tr>\n",
       "  <th>active</th>          <td>   -0.9854</td> <td>    0.134</td> <td>   -7.331</td> <td> 0.000</td> <td>   -1.249</td> <td>   -0.722</td>\n",
       "</tr>\n",
       "<tr>\n",
       "  <th>salary</th>          <td>-7.555e-07</td> <td> 1.08e-06</td> <td>   -0.700</td> <td> 0.484</td> <td>-2.87e-06</td> <td> 1.36e-06</td>\n",
       "</tr>\n",
       "<tr>\n",
       "  <th>country_Germany</th> <td>   -4.4965</td> <td>    2.015</td> <td>   -2.232</td> <td> 0.026</td> <td>   -8.446</td> <td>   -0.547</td>\n",
       "</tr>\n",
       "<tr>\n",
       "  <th>country_Spain</th>   <td>   -0.1373</td> <td>    0.139</td> <td>   -0.991</td> <td> 0.322</td> <td>   -0.409</td> <td>    0.134</td>\n",
       "</tr>\n",
       "<tr>\n",
       "  <th>gender_Male</th>     <td>   -0.5284</td> <td>    0.126</td> <td>   -4.188</td> <td> 0.000</td> <td>   -0.776</td> <td>   -0.281</td>\n",
       "</tr>\n",
       "</table><br/><br/>Possibly complete quasi-separation: A fraction 0.22 of observations can be<br/>perfectly predicted. This might indicate that there is complete<br/>quasi-separation. In this case some parameters will not be identified."
      ],
      "text/plain": [
       "<class 'statsmodels.iolib.summary.Summary'>\n",
       "\"\"\"\n",
       "                           Logit Regression Results                           \n",
       "==============================================================================\n",
       "Dep. Variable:                  churn   No. Observations:                 2851\n",
       "Model:                          Logit   Df Residuals:                     2842\n",
       "Method:                           MLE   Df Model:                            8\n",
       "Date:                Sat, 07 Aug 2021   Pseudo R-squ.:                  0.6027\n",
       "Time:                        19:29:20   Log-Likelihood:                -785.04\n",
       "converged:                       True   LL-Null:                       -1976.0\n",
       "Covariance Type:            nonrobust   LLR p-value:                     0.000\n",
       "===================================================================================\n",
       "                      coef    std err          z      P>|z|      [0.025      0.975]\n",
       "-----------------------------------------------------------------------------------\n",
       "creditscore        -0.0044      0.000    -10.733      0.000      -0.005      -0.004\n",
       "age                 0.0614      0.006     11.068      0.000       0.051       0.072\n",
       "tenure             -0.0534      0.022     -2.460      0.014      -0.096      -0.011\n",
       "balance             0.0001   2.26e-05      5.155      0.000    7.22e-05       0.000\n",
       "active             -0.9854      0.134     -7.331      0.000      -1.249      -0.722\n",
       "salary          -7.555e-07   1.08e-06     -0.700      0.484   -2.87e-06    1.36e-06\n",
       "country_Germany    -4.4965      2.015     -2.232      0.026      -8.446      -0.547\n",
       "country_Spain      -0.1373      0.139     -0.991      0.322      -0.409       0.134\n",
       "gender_Male        -0.5284      0.126     -4.188      0.000      -0.776      -0.281\n",
       "===================================================================================\n",
       "\n",
       "Possibly complete quasi-separation: A fraction 0.22 of observations can be\n",
       "perfectly predicted. This might indicate that there is complete\n",
       "quasi-separation. In this case some parameters will not be identified.\n",
       "\"\"\""
      ]
     },
     "execution_count": 102,
     "metadata": {},
     "output_type": "execute_result"
    }
   ],
   "source": [
    "m3.summary()"
   ]
  },
  {
   "cell_type": "markdown",
   "id": "4f35b235",
   "metadata": {},
   "source": [
    "# Predict on test data"
   ]
  },
  {
   "cell_type": "code",
   "execution_count": 103,
   "id": "52fbd797",
   "metadata": {},
   "outputs": [
    {
     "name": "stdout",
     "output_type": "stream",
     "text": [
      "predicted    0    1   All\n",
      "actual                   \n",
      "0          580   18   598\n",
      "1          149  476   625\n",
      "All        729  494  1223\n",
      "              precision    recall  f1-score   support\n",
      "\n",
      "           0       0.80      0.97      0.87       598\n",
      "           1       0.96      0.76      0.85       625\n",
      "\n",
      "    accuracy                           0.86      1223\n",
      "   macro avg       0.88      0.87      0.86      1223\n",
      "weighted avg       0.88      0.86      0.86      1223\n",
      "\n"
     ]
    },
    {
     "data": {
      "image/png": "[encoded data removed]",
      "text/plain": [
       "<Figure size 1296x720 with 1 Axes>"
      ]
     },
     "metadata": {
      "needs_background": "light"
     },
     "output_type": "display_data"
    }
   ],
   "source": [
    "cutoff = 0.5\n",
    "p3 =  m3.predict(testx3)\n",
    "pred3 = predtoclass(p3,cutoff)\n",
    "cm(testy3,pred3)"
   ]
  },
  {
   "cell_type": "markdown",
   "id": "5242eb8b",
   "metadata": {},
   "source": [
    "# Evaluting the model"
   ]
  },
  {
   "cell_type": "code",
   "execution_count": 104,
   "id": "81e65cad",
   "metadata": {},
   "outputs": [
    {
     "name": "stdout",
     "output_type": "stream",
     "text": [
      "predicted    0    1   All\n",
      "actual                   \n",
      "0          580   18   598\n",
      "1          149  476   625\n",
      "All        729  494  1223\n",
      "              precision    recall  f1-score   support\n",
      "\n",
      "           0       0.80      0.97      0.87       598\n",
      "           1       0.96      0.76      0.85       625\n",
      "\n",
      "    accuracy                           0.86      1223\n",
      "   macro avg       0.88      0.87      0.86      1223\n",
      "weighted avg       0.88      0.86      0.86      1223\n",
      "\n"
     ]
    },
    {
     "data": {
      "image/png": "[encoded data removed]",
      "text/plain": [
       "<Figure size 1296x720 with 1 Axes>"
      ]
     },
     "metadata": {
      "needs_background": "light"
     },
     "output_type": "display_data"
    }
   ],
   "source": [
    "cm(testy3,pred3)"
   ]
  },
  {
   "cell_type": "markdown",
   "id": "5ca10004",
   "metadata": {},
   "source": [
    "# Hybrid / Balance model"
   ]
  },
  {
   "cell_type": "code",
   "execution_count": 114,
   "id": "9c64ce8f",
   "metadata": {},
   "outputs": [],
   "source": [
    "from imblearn.pipeline import Pipeline\n",
    "from imblearn.under_sampling import RandomUnderSampler"
   ]
  },
  {
   "cell_type": "code",
   "execution_count": 108,
   "id": "04606b7e",
   "metadata": {},
   "outputs": [],
   "source": [
    "prec = 0.75 \n"
   ]
  },
  {
   "cell_type": "code",
   "execution_count": 110,
   "id": "53deaf4f",
   "metadata": {},
   "outputs": [],
   "source": [
    "oversamp = SMOTE(sampling_strategy = prec)\n",
    "undersamp = RandomUnderSampler(sampling_strategy=prec)"
   ]
  },
  {
   "cell_type": "code",
   "execution_count": 111,
   "id": "eb3d52df",
   "metadata": {},
   "outputs": [],
   "source": [
    "steps = [('o',oversamp),('u',undersamp)]\n"
   ]
  },
  {
   "cell_type": "code",
   "execution_count": 115,
   "id": "6580f763",
   "metadata": {},
   "outputs": [],
   "source": [
    "chx,chy = Pipeline(steps=steps).fit_resample(bank_new.drop('churn',1),bank_new.churn)\n"
   ]
  },
  {
   "cell_type": "code",
   "execution_count": 116,
   "id": "44e4f582",
   "metadata": {},
   "outputs": [
    {
     "data": {
      "text/plain": [
       "13934"
      ]
     },
     "execution_count": 116,
     "metadata": {},
     "output_type": "execute_result"
    }
   ],
   "source": [
    "# dataset for model 4\n",
    "bank_new4 = chx.join(chy)\n",
    "len(bank_new4)\n",
    "\n"
   ]
  },
  {
   "cell_type": "markdown",
   "id": "6e52653d",
   "metadata": {},
   "source": [
    "#  check the count of the classes (Y)\n"
   ]
  },
  {
   "cell_type": "code",
   "execution_count": 117,
   "id": "9afc3328",
   "metadata": {},
   "outputs": [
    {
     "data": {
      "text/plain": [
       "0    7962\n",
       "1    5972\n",
       "Name: churn, dtype: int64"
      ]
     },
     "execution_count": 117,
     "metadata": {},
     "output_type": "execute_result"
    }
   ],
   "source": [
    "bank_new4.churn.value_counts()\n"
   ]
  },
  {
   "cell_type": "markdown",
   "id": "46868b7a",
   "metadata": {},
   "source": [
    "# build and predict M4"
   ]
  },
  {
   "cell_type": "code",
   "execution_count": 124,
   "id": "b9f562a6",
   "metadata": {},
   "outputs": [
    {
     "name": "stdout",
     "output_type": "stream",
     "text": [
      "Optimization terminated successfully.\n",
      "         Current function value: 0.500411\n",
      "         Iterations 6\n"
     ]
    }
   ],
   "source": [
    "\n",
    "# build and predict M4\n",
    "trainx4,trainy4,testx4,testy4 = splitdata(bank_new4,'churn')\n",
    "(trainx4.shape,trainy4.shape,testx4.shape,testy4.shape)\n",
    "\n",
    "m4 = buildmodel(trainx4,trainy4)\n",
    "\n"
   ]
  },
  {
   "cell_type": "markdown",
   "id": "1eba7e36",
   "metadata": {},
   "source": [
    "# summarise the model"
   ]
  },
  {
   "cell_type": "code",
   "execution_count": 119,
   "id": "65b20165",
   "metadata": {},
   "outputs": [
    {
     "data": {
      "text/html": [
       "<table class=\"simpletable\">\n",
       "<caption>Logit Regression Results</caption>\n",
       "<tr>\n",
       "  <th>Dep. Variable:</th>         <td>churn</td>      <th>  No. Observations:  </th>  <td>  9753</td> \n",
       "</tr>\n",
       "<tr>\n",
       "  <th>Model:</th>                 <td>Logit</td>      <th>  Df Residuals:      </th>  <td>  9744</td> \n",
       "</tr>\n",
       "<tr>\n",
       "  <th>Method:</th>                 <td>MLE</td>       <th>  Df Model:          </th>  <td>     8</td> \n",
       "</tr>\n",
       "<tr>\n",
       "  <th>Date:</th>            <td>Sat, 07 Aug 2021</td> <th>  Pseudo R-squ.:     </th>  <td>0.2591</td> \n",
       "</tr>\n",
       "<tr>\n",
       "  <th>Time:</th>                <td>19:42:55</td>     <th>  Log-Likelihood:    </th> <td> -4927.4</td>\n",
       "</tr>\n",
       "<tr>\n",
       "  <th>converged:</th>             <td>True</td>       <th>  LL-Null:           </th> <td> -6651.0</td>\n",
       "</tr>\n",
       "<tr>\n",
       "  <th>Covariance Type:</th>     <td>nonrobust</td>    <th>  LLR p-value:       </th>  <td> 0.000</td> \n",
       "</tr>\n",
       "</table>\n",
       "<table class=\"simpletable\">\n",
       "<tr>\n",
       "         <td></td>            <th>coef</th>     <th>std err</th>      <th>z</th>      <th>P>|z|</th>  <th>[0.025</th>    <th>0.975]</th>  \n",
       "</tr>\n",
       "<tr>\n",
       "  <th>creditscore</th>     <td>   -0.0031</td> <td>    0.000</td> <td>  -18.884</td> <td> 0.000</td> <td>   -0.003</td> <td>   -0.003</td>\n",
       "</tr>\n",
       "<tr>\n",
       "  <th>age</th>             <td>    0.0749</td> <td>    0.002</td> <td>   31.248</td> <td> 0.000</td> <td>    0.070</td> <td>    0.080</td>\n",
       "</tr>\n",
       "<tr>\n",
       "  <th>tenure</th>          <td>   -0.0593</td> <td>    0.009</td> <td>   -6.690</td> <td> 0.000</td> <td>   -0.077</td> <td>   -0.042</td>\n",
       "</tr>\n",
       "<tr>\n",
       "  <th>balance</th>         <td>  4.06e-06</td> <td> 4.27e-07</td> <td>    9.502</td> <td> 0.000</td> <td> 3.22e-06</td> <td>  4.9e-06</td>\n",
       "</tr>\n",
       "<tr>\n",
       "  <th>active</th>          <td>   -1.7019</td> <td>    0.054</td> <td>  -31.440</td> <td> 0.000</td> <td>   -1.808</td> <td>   -1.596</td>\n",
       "</tr>\n",
       "<tr>\n",
       "  <th>salary</th>          <td>-7.388e-07</td> <td>  4.2e-07</td> <td>   -1.761</td> <td> 0.078</td> <td>-1.56e-06</td> <td> 8.35e-08</td>\n",
       "</tr>\n",
       "<tr>\n",
       "  <th>country_Germany</th> <td>    0.0627</td> <td>    0.062</td> <td>    1.014</td> <td> 0.311</td> <td>   -0.059</td> <td>    0.184</td>\n",
       "</tr>\n",
       "<tr>\n",
       "  <th>country_Spain</th>   <td>   -0.9290</td> <td>    0.070</td> <td>  -13.311</td> <td> 0.000</td> <td>   -1.066</td> <td>   -0.792</td>\n",
       "</tr>\n",
       "<tr>\n",
       "  <th>gender_Male</th>     <td>   -1.2685</td> <td>    0.051</td> <td>  -25.097</td> <td> 0.000</td> <td>   -1.368</td> <td>   -1.169</td>\n",
       "</tr>\n",
       "</table>"
      ],
      "text/plain": [
       "<class 'statsmodels.iolib.summary.Summary'>\n",
       "\"\"\"\n",
       "                           Logit Regression Results                           \n",
       "==============================================================================\n",
       "Dep. Variable:                  churn   No. Observations:                 9753\n",
       "Model:                          Logit   Df Residuals:                     9744\n",
       "Method:                           MLE   Df Model:                            8\n",
       "Date:                Sat, 07 Aug 2021   Pseudo R-squ.:                  0.2591\n",
       "Time:                        19:42:55   Log-Likelihood:                -4927.4\n",
       "converged:                       True   LL-Null:                       -6651.0\n",
       "Covariance Type:            nonrobust   LLR p-value:                     0.000\n",
       "===================================================================================\n",
       "                      coef    std err          z      P>|z|      [0.025      0.975]\n",
       "-----------------------------------------------------------------------------------\n",
       "creditscore        -0.0031      0.000    -18.884      0.000      -0.003      -0.003\n",
       "age                 0.0749      0.002     31.248      0.000       0.070       0.080\n",
       "tenure             -0.0593      0.009     -6.690      0.000      -0.077      -0.042\n",
       "balance           4.06e-06   4.27e-07      9.502      0.000    3.22e-06     4.9e-06\n",
       "active             -1.7019      0.054    -31.440      0.000      -1.808      -1.596\n",
       "salary          -7.388e-07    4.2e-07     -1.761      0.078   -1.56e-06    8.35e-08\n",
       "country_Germany     0.0627      0.062      1.014      0.311      -0.059       0.184\n",
       "country_Spain      -0.9290      0.070    -13.311      0.000      -1.066      -0.792\n",
       "gender_Male        -1.2685      0.051    -25.097      0.000      -1.368      -1.169\n",
       "===================================================================================\n",
       "\"\"\""
      ]
     },
     "execution_count": 119,
     "metadata": {},
     "output_type": "execute_result"
    }
   ],
   "source": [
    "m4.summary()\n",
    "\n"
   ]
  },
  {
   "cell_type": "markdown",
   "id": "550e991d",
   "metadata": {},
   "source": [
    "# predict on the test data"
   ]
  },
  {
   "cell_type": "code",
   "execution_count": 125,
   "id": "81b64466",
   "metadata": {},
   "outputs": [],
   "source": [
    "cutoff = 0.5\n",
    "p4 = m4.predict(testx4)\n",
    "pred4 = predtoclass(p4,cutoff)\n"
   ]
  },
  {
   "cell_type": "markdown",
   "id": "f9e385a4",
   "metadata": {},
   "source": [
    "# evaluating the model"
   ]
  },
  {
   "cell_type": "code",
   "execution_count": 123,
   "id": "9afbc20c",
   "metadata": {},
   "outputs": [
    {
     "name": "stdout",
     "output_type": "stream",
     "text": [
      "predicted     0     1   All\n",
      "actual                     \n",
      "0          1854   503  2357\n",
      "1           510  1314  1824\n",
      "All        2364  1817  4181\n",
      "              precision    recall  f1-score   support\n",
      "\n",
      "           0       0.78      0.79      0.79      2357\n",
      "           1       0.72      0.72      0.72      1824\n",
      "\n",
      "    accuracy                           0.76      4181\n",
      "   macro avg       0.75      0.75      0.75      4181\n",
      "weighted avg       0.76      0.76      0.76      4181\n",
      "\n"
     ]
    },
    {
     "data": {
      "image/png": "[encoded data removed]",
      "text/plain": [
       "<Figure size 1296x720 with 1 Axes>"
      ]
     },
     "metadata": {
      "needs_background": "light"
     },
     "output_type": "display_data"
    }
   ],
   "source": [
    "\n",
    "# evaluating the model\n",
    "cm(testy4,pred4)"
   ]
  },
  {
   "cell_type": "code",
   "execution_count": null,
   "id": "3b74fee7",
   "metadata": {},
   "outputs": [],
   "source": []
  }
 ],
 "metadata": {
  "kernelspec": {
   "display_name": "Python 3",
   "language": "python",
   "name": "python3"
  },
  "language_info": {
   "codemirror_mode": {
    "name": "ipython",
    "version": 3
   },
   "file_extension": ".py",
   "mimetype": "text/x-python",
   "name": "python",
   "nbconvert_exporter": "python",
   "pygments_lexer": "ipython3",
   "version": "3.8.8"
  }
 },
 "nbformat": 4,
 "nbformat_minor": 5
}
